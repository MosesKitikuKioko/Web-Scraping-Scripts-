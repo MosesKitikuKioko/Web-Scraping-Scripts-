{
 "cells": [
  {
   "cell_type": "markdown",
   "id": "3f60b716",
   "metadata": {},
   "source": [
    "## Introduction"
   ]
  },
  {
   "cell_type": "markdown",
   "id": "f79c8490",
   "metadata": {},
   "source": [
    "The script below is designed to do the following;\n",
    "\n",
    "1. Stream all live data from twitter\n",
    "2. Pre-process data \n",
    "    - convert the json format into dataframe \n",
    "    - add the pigeo package to get the location of the users\n",
    "    - Filter out the tweets done within the african continent \n",
    "    - Filter words that are matching the dictionary provided by the client i.e command center, Go vote ... etc \n",
    "3. Create a database connection\n",
    "    - append the cleaned data into the database \n",
    "    \n",
    "    \n",
    "\n",
    "**Record the daily progress**\n",
    "\n",
    "Reference material: [Tweepy & PostgreSQL](https://www.analyticsvidhya.com/blog/2020/08/analysing-streaming-tweets-with-python-and-postgresql/)"
   ]
  },
  {
   "cell_type": "markdown",
   "id": "cac9bcbd",
   "metadata": {},
   "source": [
    "**Try out:**\n",
    "\n",
    "- Time the script to run for given time\n",
    "- save the data periodically \n",
    "- pick out relevant tweets in realtime"
   ]
  },
  {
   "cell_type": "markdown",
   "id": "f430caf1",
   "metadata": {},
   "source": [
    "## Packages "
   ]
  },
  {
   "cell_type": "code",
   "execution_count": 8,
   "id": "8658e0aa",
   "metadata": {},
   "outputs": [],
   "source": [
    "#import packages\n",
    "import pandas as pd \n",
    "import numpy as np \n",
    "import time \n",
    "import os\n",
    "\n",
    "#twee\n",
    "#import data scraping packages \n",
    "import tweepy\n",
    "# from tweepy.s\\\\ import StreamListener\n",
    "from tweepy import OAuthHandler\n",
    "from tweepy import Stream\n",
    "from tweepy import Cursor\n",
    "from tweepy import API\n",
    "\n",
    "#postgresql database packages \n",
    "import psycopg2\n",
    "import psycopg2.extras as extras\n",
    "from sqlalchemy import create_engine\n"
   ]
  },
  {
   "cell_type": "code",
   "execution_count": 6,
   "id": "183c2ac3",
   "metadata": {},
   "outputs": [],
   "source": [
    "# import pigeo"
   ]
  },
  {
   "cell_type": "markdown",
   "id": "2809f9d5",
   "metadata": {},
   "source": [
    "## Tweepy Crendetials"
   ]
  },
  {
   "cell_type": "code",
   "execution_count": 9,
   "id": "da2ac2f4",
   "metadata": {},
   "outputs": [],
   "source": [
    "#API crenditials \n",
    "app = \"design_lab_sna\"\n",
    "api_key = \"mPJBXM1cVGXfI1vKa78ryK5zr\"\n",
    "api_secret_key = \"zLcxrclFf3HM72i3OysroqDEyrsZYfdDzOYXlC42F502qU1zxg\"\n",
    "access_token = \"1075526971730354176-yBr0yRv8xDbl7jRkONEkl0I904xXPX\"\n",
    "access_token_secret = \"kkMPODnmjHnxdHGizUs6Gd7m1fHaNL4iSbplniBGxdOZj\""
   ]
  },
  {
   "cell_type": "markdown",
   "id": "74e8a61c",
   "metadata": {},
   "source": [
    "## API Authentication"
   ]
  },
  {
   "cell_type": "code",
   "execution_count": 10,
   "id": "58fbb179",
   "metadata": {},
   "outputs": [],
   "source": [
    "# authorize the API Key\n",
    "authentication = tweepy.OAuthHandler(api_key, api_secret_key)\n",
    "\n",
    "# authorization to user's access token and access token secret\n",
    "authentication.set_access_token(access_token, access_token_secret)\n",
    "\n",
    "# call the api\n",
    "api = tweepy.API(authentication)"
   ]
  },
  {
   "cell_type": "markdown",
   "id": "dce2745d",
   "metadata": {},
   "source": [
    "## Live Streaming"
   ]
  },
  {
   "cell_type": "code",
   "execution_count": 42,
   "id": "95ade1ca",
   "metadata": {},
   "outputs": [],
   "source": [
    "import tweepy\n",
    " \n",
    "# # # # TWITTER STREAMER # # # #\n",
    "class TwitterStreamer():\n",
    "    \"\"\"\n",
    "    Class for streaming and processing live tweets.\n",
    "    \"\"\"\n",
    "    def __init__(self):\n",
    "        pass\n",
    "\n",
    "    def stream_tweets(self, fetched_tweets_filename, hash_tag_list):\n",
    "        # This handles Twitter authetification and the connection to Twitter Streaming API\n",
    "        listener = StdOutListener(fetched_tweets_filename)\n",
    "#         auth = OAuthHandler(twitter_credentials.CONSUMER_KEY, twitter_credentials.CONSUMER_SECRET)\n",
    "#         auth.set_access_token(twitter_credentials.ACCESS_TOKEN, twitter_credentials.ACCESS_TOKEN_SECRET)\n",
    "        stream = Stream(api_key, api_secret_key, access_token, access_token_secret)\n",
    "\n",
    "        # This line filter Twitter Streams to capture data by the keywords: \n",
    "        stream.filter(track=hash_tag_list)\n",
    "\n",
    "\n",
    "# # # # TWITTER STREAM LISTENER # # # #\n",
    "class StdOutListener(tweepy.Stream):\n",
    "    \"\"\"\n",
    "    This is a basic listener that just prints received tweets to stdout.\n",
    "    \"\"\"\n",
    "    def __init__(self, fetched_tweets_filename):\n",
    "        self.fetched_tweets_filename = fetched_tweets_filename\n",
    "\n",
    "    def on_data(self, data):\n",
    "        try:\n",
    "            print(data)\n",
    "            with open(self.fetched_tweets_filename, 'a') as tf:\n",
    "                tf.write(data)\n",
    "            return True\n",
    "        except BaseException as e:\n",
    "            print(\"Error on_data %s\" % str(e))\n",
    "        return True\n",
    "          \n",
    "# \n",
    "    def on_error(self, status):\n",
    "        print(status)\n",
    "\n",
    " \n",
    "if __name__ == '__main__':\n",
    " \n",
    "    # Authenticate using config.py and connect to Twitter Streaming API.\n",
    "    hash_tag_list = [\"donal trump\", \"hillary clinton\", \"barack obama\", \"bernie sanders\"]\n",
    "    fetched_tweets_filename = \"tweets.txt\"\n",
    "\n",
    "    twitter_streamer = TwitterStreamer()\n",
    "    twitter_streamer.stream_tweets(fetched_tweets_filename, hash_tag_list)"
   ]
  },
  {
   "cell_type": "code",
   "execution_count": null,
   "id": "bf4851a3",
   "metadata": {},
   "outputs": [],
   "source": []
  },
  {
   "cell_type": "markdown",
   "id": "1525bed2",
   "metadata": {},
   "source": [
    "### [working code](https://stackoverflow.com/questions/69338089/cant-import-streamlistener)"
   ]
  },
  {
   "cell_type": "code",
   "execution_count": 47,
   "id": "ce5986de",
   "metadata": {},
   "outputs": [
    {
     "ename": "TypeError",
     "evalue": "__init__() takes 2 positional arguments but 5 were given",
     "output_type": "error",
     "traceback": [
      "\u001b[1;31m---------------------------------------------------------------------------\u001b[0m",
      "\u001b[1;31mTypeError\u001b[0m                                 Traceback (most recent call last)",
      "Input \u001b[1;32mIn [47]\u001b[0m, in \u001b[0;36m<cell line: 52>\u001b[1;34m()\u001b[0m\n\u001b[0;32m     58\u001b[0m fetched_tweets_filename \u001b[38;5;241m=\u001b[39m \u001b[38;5;124m'\u001b[39m\u001b[38;5;124mpython.txt\u001b[39m\u001b[38;5;124m'\u001b[39m \n\u001b[0;32m     59\u001b[0m twitter_streamer \u001b[38;5;241m=\u001b[39m TwitterStreamer()\n\u001b[1;32m---> 60\u001b[0m \u001b[43mtwitter_streamer\u001b[49m\u001b[38;5;241;43m.\u001b[39;49m\u001b[43mstream_tweets\u001b[49m\u001b[43m(\u001b[49m\u001b[43mfetched_tweets_filename\u001b[49m\u001b[43m,\u001b[49m\u001b[43m \u001b[49m\u001b[43mhash_tag_list\u001b[49m\u001b[43m)\u001b[49m\n",
      "Input \u001b[1;32mIn [47]\u001b[0m, in \u001b[0;36mTwitterStreamer.stream_tweets\u001b[1;34m(self, fetched_tweets_filename, hash_tag_list)\u001b[0m\n\u001b[0;32m     14\u001b[0m listener \u001b[38;5;241m=\u001b[39m MyListener(fetched_tweets_filename)\n\u001b[0;32m     16\u001b[0m \u001b[38;5;66;03m#Authenticate the stream \u001b[39;00m\n\u001b[1;32m---> 17\u001b[0m twitter_stream \u001b[38;5;241m=\u001b[39m \u001b[43mMyListener\u001b[49m\u001b[43m(\u001b[49m\u001b[43m \u001b[49m\u001b[43mapi_key\u001b[49m\u001b[43m,\u001b[49m\u001b[43m \u001b[49m\u001b[43mapi_secret_key\u001b[49m\u001b[43m,\u001b[49m\u001b[43m \u001b[49m\u001b[43maccess_token\u001b[49m\u001b[43m,\u001b[49m\u001b[43m \u001b[49m\u001b[43maccess_token_secret\u001b[49m\u001b[43m)\u001b[49m\n\u001b[0;32m     19\u001b[0m \u001b[38;5;66;03m# This line filter Twitter Streams to capture data by the keywords: \u001b[39;00m\n\u001b[0;32m     20\u001b[0m stream\u001b[38;5;241m.\u001b[39mfilter(track\u001b[38;5;241m=\u001b[39mhash_tag_list)\n",
      "\u001b[1;31mTypeError\u001b[0m: __init__() takes 2 positional arguments but 5 were given"
     ]
    }
   ],
   "source": [
    "#import the package \n",
    "import tweepy\n",
    "\n",
    "# # # # TWITTER STREAMER # # # #\n",
    "class TwitterStreamer():\n",
    "    \"\"\"\n",
    "    Class for streaming and processing live tweets.\n",
    "    \"\"\"\n",
    "    def __init__(self):\n",
    "        pass\n",
    "\n",
    "    def stream_tweets(self, fetched_tweets_filename, hash_tag_list):\n",
    "        # This handles Twitter authetification and the connection to Twitter Streaming API\n",
    "        listener = MyListener(fetched_tweets_filename)\n",
    "        \n",
    "        #Authenticate the stream \n",
    "        twitter_stream = MyListener( api_key, api_secret_key, access_token, access_token_secret)\n",
    "\n",
    "        # This line filter Twitter Streams to capture data by the keywords: \n",
    "        stream.filter(track=hash_tag_list)\n",
    "\n",
    "#create main listener class\n",
    "class MyListener(tweepy.Stream):\n",
    "    \n",
    "    #save the file \n",
    "    def __init__(self, fetched_tweets_filename):\n",
    "        self.fetched_tweets_filename = fetched_tweets_filename\n",
    "    \n",
    "    def on_data(self, data):\n",
    "        \n",
    "        print('-'*120)\n",
    "        print(data)\n",
    "        print(' '*120)\n",
    "            \n",
    "        try:\n",
    "            with open(self.fetched_tweets_filename, 'a') as f:\n",
    "                f.write(data)\n",
    "                return True\n",
    "        except BaseException as e:\n",
    "            print(\"Error on_data: %s\" % str(e))\n",
    "#         return True\n",
    " \n",
    "    def on_error(self, status):\n",
    "        \n",
    "        #break the code if the connection error is realized \n",
    "        if status == 420:\n",
    "            # Returning False on_data method in case rate limit occurs.\n",
    "            return False\n",
    "        print(status)\n",
    "\n",
    "#get the main function \n",
    "if __name__ == '__main__':\n",
    "    \n",
    "    #hashtag list \n",
    "    hash_tag_list = ['#python']\n",
    "    \n",
    "    #save the file \n",
    "    fetched_tweets_filename = 'python.txt' \n",
    "    twitter_streamer = TwitterStreamer()\n",
    "    twitter_streamer.stream_tweets(fetched_tweets_filename, hash_tag_list)"
   ]
  },
  {
   "cell_type": "code",
   "execution_count": 37,
   "id": "7fd0985f",
   "metadata": {},
   "outputs": [
    {
     "ename": "NameError",
     "evalue": "name 'df' is not defined",
     "output_type": "error",
     "traceback": [
      "\u001b[1;31m---------------------------------------------------------------------------\u001b[0m",
      "\u001b[1;31mNameError\u001b[0m                                 Traceback (most recent call last)",
      "Input \u001b[1;32mIn [37]\u001b[0m, in \u001b[0;36m<cell line: 1>\u001b[1;34m()\u001b[0m\n\u001b[1;32m----> 1\u001b[0m \u001b[43mdf\u001b[49m\n",
      "\u001b[1;31mNameError\u001b[0m: name 'df' is not defined"
     ]
    }
   ],
   "source": [
    "f"
   ]
  }
 ],
 "metadata": {
  "celltoolbar": "Raw Cell Format",
  "kernelspec": {
   "display_name": "Python 3 (ipykernel)",
   "language": "python",
   "name": "python3"
  },
  "language_info": {
   "codemirror_mode": {
    "name": "ipython",
    "version": 3
   },
   "file_extension": ".py",
   "mimetype": "text/x-python",
   "name": "python",
   "nbconvert_exporter": "python",
   "pygments_lexer": "ipython3",
   "version": "3.9.12"
  }
 },
 "nbformat": 4,
 "nbformat_minor": 5
}
